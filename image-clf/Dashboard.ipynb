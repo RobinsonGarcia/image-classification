{
 "cells": [
  {
   "cell_type": "code",
   "execution_count": 18,
   "metadata": {},
   "outputs": [],
   "source": [
    "import os\n",
    "import json\n",
    "import pprint\n",
    "import pandas as pd\n",
    "import matplotlib.pyplot as plt"
   ]
  },
  {
   "cell_type": "code",
   "execution_count": 19,
   "metadata": {},
   "outputs": [],
   "source": [
    "def format_dict(job0):\n",
    "    tmp = job0['config']\n",
    "    tmp['acc'] = job0['acc'][-1]\n",
    "    tmp['val_acc'] = job0['val_acc'][-1]\n",
    "    tmp['Top2'] = job0['val_Top2'][-1]\n",
    "    tmp['val_Top2'] = job0['val_Top2'][-1]\n",
    "    tmp['Top3'] = job0['Top3'][-1]\n",
    "    tmp['val_Top3'] = job0['val_Top3'][-1]\n",
    "    return tmp"
   ]
  },
  {
   "cell_type": "code",
   "execution_count": 20,
   "metadata": {},
   "outputs": [],
   "source": [
    "\n",
    "def get_summary(root,print_summary=False,return_dframe=False):\n",
    "    job_list = []\n",
    "    started=0\n",
    "    not_started=0\n",
    "    accs={}\n",
    "    dataframe={}\n",
    "    for job in os.listdir(os.path.join(root,'jobs')):\n",
    "        if 'job' in job:\n",
    "            try: \n",
    "                filename = os.listdir(os.path.join(root,'jobs',job,'logs'))[0]            \n",
    "                f = open(os.path.join(root,'jobs',job,'logs',filename),\"r\")\n",
    "                job0 = json.loads(f.read())\n",
    "                f.close()\n",
    "                dataframe[job]=format_dict(job0)\n",
    "\n",
    "                started+=1\n",
    "            except:\n",
    "                not_started+=1\n",
    "    print('Number of jobs started:%d'%(started))\n",
    "    print('Number of jobs pending:%d'%(not_started))\n",
    "\n",
    "    dataframe = pd.DataFrame.from_dict(dataframe)\n",
    "    #dataframe.to_csv('summary.csv')\n",
    "    if print_summary:\n",
    "        try: print(dataframe)\n",
    "        except: print(\"couldn't load a dataframe\")\n",
    "    if return_dframe: return dataframe.T\n",
    "    else: pass"
   ]
  },
  {
   "cell_type": "code",
   "execution_count": 21,
   "metadata": {},
   "outputs": [
    {
     "name": "stdout",
     "output_type": "stream",
     "text": [
      "Number of jobs started:20\n",
      "Number of jobs pending:30\n"
     ]
    }
   ],
   "source": [
    "root = 'Shiriu'\n",
    "dframe = get_summary(root,return_dframe=True)"
   ]
  },
  {
   "cell_type": "code",
   "execution_count": 22,
   "metadata": {},
   "outputs": [
    {
     "data": {
      "text/plain": [
       "Index(['Top2', 'Top3', 'acc', 'architecture', 'batch_size', 'decay',\n",
       "       'dense_layer_size', 'dropout', 'epochs', 'img_input_size',\n",
       "       'learning_rate', 'mode', 'momentum', 'nesterov', 'num_classes',\n",
       "       'num_layers', 'optimizer', 'reg_rate', 'test_dir', 'train_dir',\n",
       "       'val_Top2', 'val_Top3', 'val_acc', 'val_dir'],\n",
       "      dtype='object')"
      ]
     },
     "execution_count": 22,
     "metadata": {},
     "output_type": "execute_result"
    }
   ],
   "source": [
    "dframe.columns"
   ]
  },
  {
   "cell_type": "code",
   "execution_count": 23,
   "metadata": {},
   "outputs": [
    {
     "data": {
      "text/html": [
       "<div>\n",
       "<style scoped>\n",
       "    .dataframe tbody tr th:only-of-type {\n",
       "        vertical-align: middle;\n",
       "    }\n",
       "\n",
       "    .dataframe tbody tr th {\n",
       "        vertical-align: top;\n",
       "    }\n",
       "\n",
       "    .dataframe thead th {\n",
       "        text-align: right;\n",
       "    }\n",
       "</style>\n",
       "<table border=\"1\" class=\"dataframe\">\n",
       "  <thead>\n",
       "    <tr style=\"text-align: right;\">\n",
       "      <th></th>\n",
       "      <th>architecture</th>\n",
       "      <th>val_Top2</th>\n",
       "    </tr>\n",
       "  </thead>\n",
       "  <tbody>\n",
       "    <tr>\n",
       "      <th>job0001</th>\n",
       "      <td>vgg16</td>\n",
       "      <td>0.839636</td>\n",
       "    </tr>\n",
       "    <tr>\n",
       "      <th>job0003</th>\n",
       "      <td>vgg16</td>\n",
       "      <td>0.825275</td>\n",
       "    </tr>\n",
       "    <tr>\n",
       "      <th>job0004</th>\n",
       "      <td>vgg19</td>\n",
       "      <td>0.786501</td>\n",
       "    </tr>\n",
       "    <tr>\n",
       "      <th>job0005</th>\n",
       "      <td>vgg16</td>\n",
       "      <td>0.847295</td>\n",
       "    </tr>\n",
       "    <tr>\n",
       "      <th>job0007</th>\n",
       "      <td>vgg19</td>\n",
       "      <td>0.832934</td>\n",
       "    </tr>\n",
       "    <tr>\n",
       "      <th>job0008</th>\n",
       "      <td>vgg16</td>\n",
       "      <td>0.363332</td>\n",
       "    </tr>\n",
       "    <tr>\n",
       "      <th>job0009</th>\n",
       "      <td>vgg19</td>\n",
       "      <td>0.741024</td>\n",
       "    </tr>\n",
       "    <tr>\n",
       "      <th>job0010</th>\n",
       "      <td>vgg16</td>\n",
       "      <td>0.502633</td>\n",
       "    </tr>\n",
       "    <tr>\n",
       "      <th>job0011</th>\n",
       "      <td>vgg16</td>\n",
       "      <td>0.749641</td>\n",
       "    </tr>\n",
       "    <tr>\n",
       "      <th>job0014</th>\n",
       "      <td>vgg19</td>\n",
       "      <td>0.79416</td>\n",
       "    </tr>\n",
       "    <tr>\n",
       "      <th>job0016</th>\n",
       "      <td>vgg19</td>\n",
       "      <td>0.835328</td>\n",
       "    </tr>\n",
       "    <tr>\n",
       "      <th>job0021</th>\n",
       "      <td>vgg16</td>\n",
       "      <td>0.868358</td>\n",
       "    </tr>\n",
       "    <tr>\n",
       "      <th>job0023</th>\n",
       "      <td>vgg19</td>\n",
       "      <td>0.365247</td>\n",
       "    </tr>\n",
       "    <tr>\n",
       "      <th>job0024</th>\n",
       "      <td>vgg16</td>\n",
       "      <td>0.851604</td>\n",
       "    </tr>\n",
       "    <tr>\n",
       "      <th>job0025</th>\n",
       "      <td>vgg19</td>\n",
       "      <td>0.752513</td>\n",
       "    </tr>\n",
       "    <tr>\n",
       "      <th>job0026</th>\n",
       "      <td>vgg19</td>\n",
       "      <td>0.810436</td>\n",
       "    </tr>\n",
       "    <tr>\n",
       "      <th>job0028</th>\n",
       "      <td>vgg19</td>\n",
       "      <td>0.804213</td>\n",
       "    </tr>\n",
       "    <tr>\n",
       "      <th>job0029</th>\n",
       "      <td>vgg16</td>\n",
       "      <td>0.811872</td>\n",
       "    </tr>\n",
       "    <tr>\n",
       "      <th>job0031</th>\n",
       "      <td>vgg16</td>\n",
       "      <td>0.757779</td>\n",
       "    </tr>\n",
       "    <tr>\n",
       "      <th>job0036</th>\n",
       "      <td>vgg19</td>\n",
       "      <td>0.592628</td>\n",
       "    </tr>\n",
       "  </tbody>\n",
       "</table>\n",
       "</div>"
      ],
      "text/plain": [
       "        architecture  val_Top2\n",
       "job0001        vgg16  0.839636\n",
       "job0003        vgg16  0.825275\n",
       "job0004        vgg19  0.786501\n",
       "job0005        vgg16  0.847295\n",
       "job0007        vgg19  0.832934\n",
       "job0008        vgg16  0.363332\n",
       "job0009        vgg19  0.741024\n",
       "job0010        vgg16  0.502633\n",
       "job0011        vgg16  0.749641\n",
       "job0014        vgg19   0.79416\n",
       "job0016        vgg19  0.835328\n",
       "job0021        vgg16  0.868358\n",
       "job0023        vgg19  0.365247\n",
       "job0024        vgg16  0.851604\n",
       "job0025        vgg19  0.752513\n",
       "job0026        vgg19  0.810436\n",
       "job0028        vgg19  0.804213\n",
       "job0029        vgg16  0.811872\n",
       "job0031        vgg16  0.757779\n",
       "job0036        vgg19  0.592628"
      ]
     },
     "execution_count": 23,
     "metadata": {},
     "output_type": "execute_result"
    }
   ],
   "source": [
    "dframe[['architecture','val_Top2']]"
   ]
  },
  {
   "cell_type": "code",
   "execution_count": 22,
   "metadata": {},
   "outputs": [
    {
     "data": {
      "text/plain": [
       "count    14.000000\n",
       "mean      0.000096\n",
       "std       0.000233\n",
       "min       0.000002\n",
       "25%       0.000012\n",
       "50%       0.000025\n",
       "75%       0.000061\n",
       "max       0.000896\n",
       "Name: learning_rate, dtype: float64"
      ]
     },
     "execution_count": 22,
     "metadata": {},
     "output_type": "execute_result"
    }
   ],
   "source": [
    "pd.to_numeric(dframe['learning_rate']).describe()\n"
   ]
  },
  {
   "cell_type": "code",
   "execution_count": 23,
   "metadata": {},
   "outputs": [
    {
     "data": {
      "text/plain": [
       "2e-06"
      ]
     },
     "execution_count": 23,
     "metadata": {},
     "output_type": "execute_result"
    }
   ],
   "source": [
    "2e-6"
   ]
  },
  {
   "cell_type": "code",
   "execution_count": 18,
   "metadata": {},
   "outputs": [
    {
     "data": {
      "image/png": "[encoded data removed]",
      "text/plain": [
       "<matplotlib.figure.Figure at 0x7f1c21aa7160>"
      ]
     },
     "metadata": {},
     "output_type": "display_data"
    }
   ],
   "source": [
    "visualize(dframe,'decay','val_Top2')"
   ]
  },
  {
   "cell_type": "markdown",
   "metadata": {},
   "source": [
    "## Visualization"
   ]
  },
  {
   "cell_type": "code",
   "execution_count": 13,
   "metadata": {},
   "outputs": [],
   "source": [
    "def visualize(dframe,field,target):\n",
    "    dframe[target] = pd.to_numeric(dframe[target])\n",
    "    if type(dframe[field][0])!= str: \n",
    "        dframe[field] = pd.to_numeric(dframe[field])\n",
    "        dframe.plot.scatter(x=field,y=target,logx=True)\n",
    "        #plt.scatter(x=dframe[field],y=dframe[target],logx=True)\n",
    "    else:\n",
    "        print(dframe.groupby(field).mean()[target])\n",
    "    pass"
   ]
  },
  {
   "cell_type": "code",
   "execution_count": 15,
   "metadata": {},
   "outputs": [
    {
     "name": "stdout",
     "output_type": "stream",
     "text": [
      "architecture\n",
      "vgg16    0.730972\n",
      "vgg19    0.698420\n",
      "Name: val_Top2, dtype: float64\n"
     ]
    }
   ],
   "source": [
    "field = 'architecture'\n",
    "target = 'val_Top2'\n",
    "visualize(dframe,field,target)"
   ]
  },
  {
   "cell_type": "code",
   "execution_count": 17,
   "metadata": {},
   "outputs": [
    {
     "data": {
      "image/png": "[encoded data removed]",
      "text/plain": [
       "<matplotlib.figure.Figure at 0x7fc1d9c1ed30>"
      ]
     },
     "metadata": {},
     "output_type": "display_data"
    }
   ],
   "source": [
    "field = 'learning_rate'\n",
    "target = 'val_Top2'\n",
    "visualize(dframe,field,target)"
   ]
  },
  {
   "cell_type": "code",
   "execution_count": null,
   "metadata": {},
   "outputs": [],
   "source": []
  }
 ],
 "metadata": {
  "kernelspec": {
   "display_name": "Python 3",
   "language": "python",
   "name": "python3"
  },
  "language_info": {
   "codemirror_mode": {
    "name": "ipython",
    "version": 3
   },
   "file_extension": ".py",
   "mimetype": "text/x-python",
   "name": "python",
   "nbconvert_exporter": "python",
   "pygments_lexer": "ipython3",
   "version": "3.6.4"
  }
 },
 "nbformat": 4,
 "nbformat_minor": 2
}
